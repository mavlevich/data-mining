{
  "nbformat": 4,
  "nbformat_minor": 0,
  "metadata": {
    "colab": {
      "name": "Copy of Yauheni_Maulevich_189966_churn.ipynb",
      "provenance": [],
      "collapsed_sections": []
    },
    "kernelspec": {
      "name": "python3",
      "display_name": "Python 3"
    },
    "language_info": {
      "name": "python"
    }
  },
  "cells": [
    {
      "cell_type": "markdown",
      "metadata": {
        "id": "RytY34rzclQN"
      },
      "source": [
        "Biblioteki.\n",
        "\n"
      ]
    },
    {
      "cell_type": "code",
      "metadata": {
        "id": "HmLgiZHpbYVx"
      },
      "source": [
        "import pandas as pd\n",
        "import numpy as np\n",
        "import seaborn as sns\n",
        "import matplotlib.pyplot as plt\n",
        "import keras\n",
        "from sklearn.impute import SimpleImputer\n",
        "from sklearn.preprocessing import StandardScaler\n",
        "from sklearn.preprocessing import Normalizer\n",
        "from sklearn.discriminant_analysis import LinearDiscriminantAnalysis as LDA\n",
        "from sklearn.discriminant_analysis import QuadraticDiscriminantAnalysis as QDA\n",
        "import tensorflow as tf\n",
        "import random\n",
        "import os\n",
        "import random\n",
        "import numpy as np\n",
        "\n",
        "seed_value = 0\n",
        "os.environ['PYTHONHASHSEED']=str(seed_value)\n",
        "random.seed(seed_value)\n",
        "np.random.seed(seed_value)\n",
        "tf.random.set_seed(seed_value)\n",
        "\n",
        "from mlxtend.plotting import plot_confusion_matrix\n",
        "import matplotlib.pyplot as plt\n",
        "import numpy as nps\n",
        "from sklearn.linear_model import LogisticRegression\n",
        "from sklearn.metrics import confusion_matrix"
      ],
      "execution_count": null,
      "outputs": []
    },
    {
      "cell_type": "markdown",
      "metadata": {
        "id": "8XWHehQyhmKV"
      },
      "source": [
        "Dane opisują klientów firmy telekomunikacyjnej. Klienci używają tzw. produktów pre-paid i często zmieniają operatora(około 1.5% klientów zmienia operatora miesięcznie) - proces ten nazywa się *churnem*.\n",
        "\n",
        "Firma jest zainteresowana segmentacją klientów w celu podjęcia ewentualnej opcji \"utrzymaniowej\".\n"
      ]
    },
    {
      "cell_type": "code",
      "metadata": {
        "id": "rrqluZvzbvbS"
      },
      "source": [
        "import pandas as pd\n",
        "df = pd.read_excel('/churn.xlsx')\n",
        "df = df.drop(['ID'], axis=1) "
      ],
      "execution_count": null,
      "outputs": []
    },
    {
      "cell_type": "markdown",
      "metadata": {
        "id": "fa4rSomucw-A"
      },
      "source": [
        "# **1. Przygotowanie danych**"
      ]
    },
    {
      "cell_type": "code",
      "metadata": {
        "colab": {
          "base_uri": "https://localhost:8080/",
          "height": 357
        },
        "id": "gj8ZCd1mdhRi",
        "outputId": "b540f8be-5a7b-41b0-d596-e43802333707"
      },
      "source": [
        "df.head()"
      ],
      "execution_count": null,
      "outputs": [
        {
          "output_type": "execute_result",
          "data": {
            "text/html": [
              "<div>\n",
              "<style scoped>\n",
              "    .dataframe tbody tr th:only-of-type {\n",
              "        vertical-align: middle;\n",
              "    }\n",
              "\n",
              "    .dataframe tbody tr th {\n",
              "        vertical-align: top;\n",
              "    }\n",
              "\n",
              "    .dataframe thead th {\n",
              "        text-align: right;\n",
              "    }\n",
              "</style>\n",
              "<table border=\"1\" class=\"dataframe\">\n",
              "  <thead>\n",
              "    <tr style=\"text-align: right;\">\n",
              "      <th></th>\n",
              "      <th>Churn (1=yes, 0=No)</th>\n",
              "      <th>Profit</th>\n",
              "      <th>Age</th>\n",
              "      <th>Cancelled</th>\n",
              "      <th>Months since start</th>\n",
              "      <th>Way of payment</th>\n",
              "      <th>Promotion</th>\n",
              "      <th>Region</th>\n",
              "      <th>Profit segment</th>\n",
              "      <th>Sex</th>\n",
              "      <th>Tariff model</th>\n",
              "      <th>Academic title</th>\n",
              "      <th>Revenue from calls (3 months ago)</th>\n",
              "      <th>Fixed revenue (3 months ago)</th>\n",
              "      <th>Revenue from roaming (3 months ago)</th>\n",
              "      <th>Total revenue (3 months ago)</th>\n",
              "      <th>Airtime to data service (1 month ago)</th>\n",
              "      <th>Airtime incoming (1 month ago)</th>\n",
              "      <th>Airtime to mobile (1 month ago)</th>\n",
              "      <th>Calls to data service (3 months ago)</th>\n",
              "      <th>Calls incoming (3 months ago)</th>\n",
              "      <th>Calls roaming (3 months ago)</th>\n",
              "    </tr>\n",
              "  </thead>\n",
              "  <tbody>\n",
              "    <tr>\n",
              "      <th>0</th>\n",
              "      <td>0</td>\n",
              "      <td>25.409096</td>\n",
              "      <td>21</td>\n",
              "      <td>0</td>\n",
              "      <td>14</td>\n",
              "      <td>Standing Order</td>\n",
              "      <td>0</td>\n",
              "      <td>0</td>\n",
              "      <td>D</td>\n",
              "      <td>Female</td>\n",
              "      <td>5</td>\n",
              "      <td>0</td>\n",
              "      <td>7.827187</td>\n",
              "      <td>0.00</td>\n",
              "      <td>0.0</td>\n",
              "      <td>7.827187</td>\n",
              "      <td>0.0</td>\n",
              "      <td>1105.413331</td>\n",
              "      <td>439.863154</td>\n",
              "      <td>0</td>\n",
              "      <td>75</td>\n",
              "      <td>0</td>\n",
              "    </tr>\n",
              "    <tr>\n",
              "      <th>1</th>\n",
              "      <td>1</td>\n",
              "      <td>572.107602</td>\n",
              "      <td>29</td>\n",
              "      <td>0</td>\n",
              "      <td>26</td>\n",
              "      <td>Standing Order</td>\n",
              "      <td>0</td>\n",
              "      <td>7</td>\n",
              "      <td>B</td>\n",
              "      <td>Male</td>\n",
              "      <td>8</td>\n",
              "      <td>0</td>\n",
              "      <td>436.528877</td>\n",
              "      <td>0.00</td>\n",
              "      <td>0.0</td>\n",
              "      <td>436.528877</td>\n",
              "      <td>0.0</td>\n",
              "      <td>54991.234822</td>\n",
              "      <td>44696.346418</td>\n",
              "      <td>0</td>\n",
              "      <td>199</td>\n",
              "      <td>3</td>\n",
              "    </tr>\n",
              "    <tr>\n",
              "      <th>2</th>\n",
              "      <td>0</td>\n",
              "      <td>57.456634</td>\n",
              "      <td>20</td>\n",
              "      <td>0</td>\n",
              "      <td>10</td>\n",
              "      <td>Standing Order</td>\n",
              "      <td>0</td>\n",
              "      <td>1</td>\n",
              "      <td>D</td>\n",
              "      <td>Female</td>\n",
              "      <td>5</td>\n",
              "      <td>0</td>\n",
              "      <td>69.884354</td>\n",
              "      <td>28.12</td>\n",
              "      <td>0.0</td>\n",
              "      <td>98.004354</td>\n",
              "      <td>0.0</td>\n",
              "      <td>684.385557</td>\n",
              "      <td>651.221462</td>\n",
              "      <td>0</td>\n",
              "      <td>54</td>\n",
              "      <td>0</td>\n",
              "    </tr>\n",
              "    <tr>\n",
              "      <th>3</th>\n",
              "      <td>1</td>\n",
              "      <td>292.595896</td>\n",
              "      <td>47</td>\n",
              "      <td>1</td>\n",
              "      <td>29</td>\n",
              "      <td>Standing Order</td>\n",
              "      <td>0</td>\n",
              "      <td>5</td>\n",
              "      <td>A</td>\n",
              "      <td>Male</td>\n",
              "      <td>18</td>\n",
              "      <td>0</td>\n",
              "      <td>419.516818</td>\n",
              "      <td>62.60</td>\n",
              "      <td>0.0</td>\n",
              "      <td>482.116818</td>\n",
              "      <td>0.0</td>\n",
              "      <td>12523.260237</td>\n",
              "      <td>4837.449854</td>\n",
              "      <td>0</td>\n",
              "      <td>134</td>\n",
              "      <td>0</td>\n",
              "    </tr>\n",
              "    <tr>\n",
              "      <th>4</th>\n",
              "      <td>0</td>\n",
              "      <td>6.599228</td>\n",
              "      <td>47</td>\n",
              "      <td>0</td>\n",
              "      <td>10</td>\n",
              "      <td>Standing Order</td>\n",
              "      <td>0</td>\n",
              "      <td>7</td>\n",
              "      <td>D</td>\n",
              "      <td>Male</td>\n",
              "      <td>8</td>\n",
              "      <td>0</td>\n",
              "      <td>12.092878</td>\n",
              "      <td>0.00</td>\n",
              "      <td>0.0</td>\n",
              "      <td>12.092878</td>\n",
              "      <td>0.0</td>\n",
              "      <td>2531.737199</td>\n",
              "      <td>73.926074</td>\n",
              "      <td>0</td>\n",
              "      <td>21</td>\n",
              "      <td>0</td>\n",
              "    </tr>\n",
              "  </tbody>\n",
              "</table>\n",
              "</div>"
            ],
            "text/plain": [
              "   Churn (1=yes, 0=No)  ...  Calls roaming (3 months ago)\n",
              "0                    0  ...                             0\n",
              "1                    1  ...                             3\n",
              "2                    0  ...                             0\n",
              "3                    1  ...                             0\n",
              "4                    0  ...                             0\n",
              "\n",
              "[5 rows x 22 columns]"
            ]
          },
          "metadata": {
            "tags": []
          },
          "execution_count": 4
        }
      ]
    },
    {
      "cell_type": "code",
      "metadata": {
        "colab": {
          "base_uri": "https://localhost:8080/",
          "height": 402
        },
        "id": "JlKnFQ8ldFsG",
        "outputId": "f6353629-2960-4923-ed5a-f1d39e50623e"
      },
      "source": [
        "df.describe()"
      ],
      "execution_count": null,
      "outputs": [
        {
          "output_type": "execute_result",
          "data": {
            "text/html": [
              "<div>\n",
              "<style scoped>\n",
              "    .dataframe tbody tr th:only-of-type {\n",
              "        vertical-align: middle;\n",
              "    }\n",
              "\n",
              "    .dataframe tbody tr th {\n",
              "        vertical-align: top;\n",
              "    }\n",
              "\n",
              "    .dataframe thead th {\n",
              "        text-align: right;\n",
              "    }\n",
              "</style>\n",
              "<table border=\"1\" class=\"dataframe\">\n",
              "  <thead>\n",
              "    <tr style=\"text-align: right;\">\n",
              "      <th></th>\n",
              "      <th>Churn (1=yes, 0=No)</th>\n",
              "      <th>Profit</th>\n",
              "      <th>Age</th>\n",
              "      <th>Cancelled</th>\n",
              "      <th>Months since start</th>\n",
              "      <th>Promotion</th>\n",
              "      <th>Tariff model</th>\n",
              "      <th>Academic title</th>\n",
              "      <th>Revenue from calls (3 months ago)</th>\n",
              "      <th>Fixed revenue (3 months ago)</th>\n",
              "      <th>Revenue from roaming (3 months ago)</th>\n",
              "      <th>Total revenue (3 months ago)</th>\n",
              "      <th>Airtime to data service (1 month ago)</th>\n",
              "      <th>Airtime incoming (1 month ago)</th>\n",
              "      <th>Airtime to mobile (1 month ago)</th>\n",
              "      <th>Calls to data service (3 months ago)</th>\n",
              "      <th>Calls incoming (3 months ago)</th>\n",
              "      <th>Calls roaming (3 months ago)</th>\n",
              "    </tr>\n",
              "  </thead>\n",
              "  <tbody>\n",
              "    <tr>\n",
              "      <th>count</th>\n",
              "      <td>11810.000000</td>\n",
              "      <td>11810.000000</td>\n",
              "      <td>11810.000000</td>\n",
              "      <td>11810.000000</td>\n",
              "      <td>11810.000000</td>\n",
              "      <td>11810.0</td>\n",
              "      <td>11810.000000</td>\n",
              "      <td>11810.000000</td>\n",
              "      <td>11810.000000</td>\n",
              "      <td>11810.000000</td>\n",
              "      <td>11810.000000</td>\n",
              "      <td>11810.000000</td>\n",
              "      <td>11810.000000</td>\n",
              "      <td>11810.000000</td>\n",
              "      <td>11810.000000</td>\n",
              "      <td>11810.0</td>\n",
              "      <td>11810.000000</td>\n",
              "      <td>11810.000000</td>\n",
              "    </tr>\n",
              "    <tr>\n",
              "      <th>mean</th>\n",
              "      <td>0.100000</td>\n",
              "      <td>101.098452</td>\n",
              "      <td>28.219306</td>\n",
              "      <td>0.020237</td>\n",
              "      <td>16.807790</td>\n",
              "      <td>0.0</td>\n",
              "      <td>10.215072</td>\n",
              "      <td>0.024555</td>\n",
              "      <td>51.729468</td>\n",
              "      <td>28.688493</td>\n",
              "      <td>8.611292</td>\n",
              "      <td>89.029253</td>\n",
              "      <td>0.087792</td>\n",
              "      <td>2918.518792</td>\n",
              "      <td>1137.365030</td>\n",
              "      <td>0.0</td>\n",
              "      <td>35.549958</td>\n",
              "      <td>0.611262</td>\n",
              "    </tr>\n",
              "    <tr>\n",
              "      <th>std</th>\n",
              "      <td>0.300013</td>\n",
              "      <td>209.927808</td>\n",
              "      <td>6.590383</td>\n",
              "      <td>0.140816</td>\n",
              "      <td>9.520886</td>\n",
              "      <td>0.0</td>\n",
              "      <td>5.606525</td>\n",
              "      <td>0.154772</td>\n",
              "      <td>105.807331</td>\n",
              "      <td>11.855100</td>\n",
              "      <td>45.855806</td>\n",
              "      <td>121.132813</td>\n",
              "      <td>3.023441</td>\n",
              "      <td>5246.237369</td>\n",
              "      <td>3272.294606</td>\n",
              "      <td>0.0</td>\n",
              "      <td>51.172809</td>\n",
              "      <td>2.939251</td>\n",
              "    </tr>\n",
              "    <tr>\n",
              "      <th>min</th>\n",
              "      <td>0.000000</td>\n",
              "      <td>0.000000</td>\n",
              "      <td>20.000000</td>\n",
              "      <td>0.000000</td>\n",
              "      <td>6.000000</td>\n",
              "      <td>0.0</td>\n",
              "      <td>1.000000</td>\n",
              "      <td>0.000000</td>\n",
              "      <td>0.000000</td>\n",
              "      <td>0.000000</td>\n",
              "      <td>0.000000</td>\n",
              "      <td>0.000000</td>\n",
              "      <td>0.000000</td>\n",
              "      <td>0.000000</td>\n",
              "      <td>0.000000</td>\n",
              "      <td>0.0</td>\n",
              "      <td>0.000000</td>\n",
              "      <td>0.000000</td>\n",
              "    </tr>\n",
              "    <tr>\n",
              "      <th>25%</th>\n",
              "      <td>0.000000</td>\n",
              "      <td>26.062782</td>\n",
              "      <td>24.000000</td>\n",
              "      <td>0.000000</td>\n",
              "      <td>10.000000</td>\n",
              "      <td>0.0</td>\n",
              "      <td>5.000000</td>\n",
              "      <td>0.000000</td>\n",
              "      <td>6.920331</td>\n",
              "      <td>28.120000</td>\n",
              "      <td>0.000000</td>\n",
              "      <td>36.048499</td>\n",
              "      <td>0.000000</td>\n",
              "      <td>155.317780</td>\n",
              "      <td>0.000000</td>\n",
              "      <td>0.0</td>\n",
              "      <td>4.000000</td>\n",
              "      <td>0.000000</td>\n",
              "    </tr>\n",
              "    <tr>\n",
              "      <th>50%</th>\n",
              "      <td>0.000000</td>\n",
              "      <td>61.802175</td>\n",
              "      <td>27.000000</td>\n",
              "      <td>0.000000</td>\n",
              "      <td>14.000000</td>\n",
              "      <td>0.0</td>\n",
              "      <td>8.000000</td>\n",
              "      <td>0.000000</td>\n",
              "      <td>21.319532</td>\n",
              "      <td>28.120000</td>\n",
              "      <td>0.000000</td>\n",
              "      <td>54.066947</td>\n",
              "      <td>0.000000</td>\n",
              "      <td>878.190495</td>\n",
              "      <td>147.513869</td>\n",
              "      <td>0.0</td>\n",
              "      <td>17.000000</td>\n",
              "      <td>0.000000</td>\n",
              "    </tr>\n",
              "    <tr>\n",
              "      <th>75%</th>\n",
              "      <td>0.000000</td>\n",
              "      <td>113.761592</td>\n",
              "      <td>31.000000</td>\n",
              "      <td>0.000000</td>\n",
              "      <td>22.000000</td>\n",
              "      <td>0.0</td>\n",
              "      <td>16.000000</td>\n",
              "      <td>0.000000</td>\n",
              "      <td>57.896985</td>\n",
              "      <td>30.710000</td>\n",
              "      <td>0.000000</td>\n",
              "      <td>100.208620</td>\n",
              "      <td>0.000000</td>\n",
              "      <td>3534.272460</td>\n",
              "      <td>911.889711</td>\n",
              "      <td>0.0</td>\n",
              "      <td>47.000000</td>\n",
              "      <td>0.000000</td>\n",
              "    </tr>\n",
              "    <tr>\n",
              "      <th>max</th>\n",
              "      <td>1.000000</td>\n",
              "      <td>11541.527297</td>\n",
              "      <td>50.000000</td>\n",
              "      <td>1.000000</td>\n",
              "      <td>71.000000</td>\n",
              "      <td>0.0</td>\n",
              "      <td>18.000000</td>\n",
              "      <td>1.000000</td>\n",
              "      <td>2843.420175</td>\n",
              "      <td>65.190000</td>\n",
              "      <td>990.817981</td>\n",
              "      <td>2874.130175</td>\n",
              "      <td>116.934334</td>\n",
              "      <td>64615.684971</td>\n",
              "      <td>56154.459996</td>\n",
              "      <td>0.0</td>\n",
              "      <td>643.000000</td>\n",
              "      <td>46.000000</td>\n",
              "    </tr>\n",
              "  </tbody>\n",
              "</table>\n",
              "</div>"
            ],
            "text/plain": [
              "       Churn (1=yes, 0=No)  ...  Calls roaming (3 months ago)\n",
              "count         11810.000000  ...                  11810.000000\n",
              "mean              0.100000  ...                      0.611262\n",
              "std               0.300013  ...                      2.939251\n",
              "min               0.000000  ...                      0.000000\n",
              "25%               0.000000  ...                      0.000000\n",
              "50%               0.000000  ...                      0.000000\n",
              "75%               0.000000  ...                      0.000000\n",
              "max               1.000000  ...                     46.000000\n",
              "\n",
              "[8 rows x 18 columns]"
            ]
          },
          "metadata": {
            "tags": []
          },
          "execution_count": 5
        }
      ]
    },
    {
      "cell_type": "markdown",
      "metadata": {
        "id": "Zw_unmqBhKco"
      },
      "source": [
        "Nazwy kolumn zostają zmienione na bardziej użyteczne."
      ]
    },
    {
      "cell_type": "code",
      "metadata": {
        "colab": {
          "base_uri": "https://localhost:8080/",
          "height": 224
        },
        "id": "WqfjK1WYhJpW",
        "outputId": "417e0f2e-379e-4b3c-cd31-ef39da6b0715"
      },
      "source": [
        "dict_column = {\n",
        "               'Churn (1=yes, 0=No)':'churn',\n",
        "               'Profit':'profit',\n",
        "               'Age':'age',\n",
        "               'Way of payment': 'way_of_payment',\n",
        "               'Region': 'region',\n",
        "               'Profit segment': 'profit_segment',\n",
        "               'Sex': 'sex',\n",
        "               'Cancelled': 'cancelled',\n",
        "               'Months since start': 'months_start',\n",
        "               'Promotion': 'promotion',\n",
        "               'Tariff model': 'tariff_model',\n",
        "               'Academic title': 'academic_title',\n",
        "               'Revenue from calls (3 months ago)': 'revenue_calls_3_months_ago',\n",
        "               'Fixed revenue (3 months ago)': 'fixed_revenue_3_months_ago',\n",
        "               'Revenue from roaming (3 months ago)': 'revenue_roaming_3_months_ago',\n",
        "               'Total revenue (3 months ago)': 'total_revenue_3_months_ago',\n",
        "               'Airtime to data service (1 month ago)': 'airtime_to_data_service_1_month_ago',\n",
        "               'Airtime incoming (1 month ago)': 'airtime_incoming_1_month_ago',\n",
        "               'Airtime to mobile (1 month ago)': 'airtime_to_mobile_1_month_ago',\n",
        "               'Calls to data service (3 months ago)': 'calls_to_data_service_3_months_ago',\n",
        "               'Calls incoming (3 months ago)': 'calls_incoming_3_months_ago',\n",
        "               'Calls roaming (3 months ago)': 'calls_roaming_3_months_ago'\n",
        "               }\n",
        "df = df.rename(columns=dict_column)\n",
        "df.head()"
      ],
      "execution_count": null,
      "outputs": [
        {
          "output_type": "execute_result",
          "data": {
            "text/html": [
              "<div>\n",
              "<style scoped>\n",
              "    .dataframe tbody tr th:only-of-type {\n",
              "        vertical-align: middle;\n",
              "    }\n",
              "\n",
              "    .dataframe tbody tr th {\n",
              "        vertical-align: top;\n",
              "    }\n",
              "\n",
              "    .dataframe thead th {\n",
              "        text-align: right;\n",
              "    }\n",
              "</style>\n",
              "<table border=\"1\" class=\"dataframe\">\n",
              "  <thead>\n",
              "    <tr style=\"text-align: right;\">\n",
              "      <th></th>\n",
              "      <th>churn</th>\n",
              "      <th>profit</th>\n",
              "      <th>age</th>\n",
              "      <th>cancelled</th>\n",
              "      <th>months_start</th>\n",
              "      <th>way_of_payment</th>\n",
              "      <th>promotion</th>\n",
              "      <th>region</th>\n",
              "      <th>profit_segment</th>\n",
              "      <th>sex</th>\n",
              "      <th>tariff_model</th>\n",
              "      <th>academic_title</th>\n",
              "      <th>revenue_calls_3_months_ago</th>\n",
              "      <th>fixed_revenue_3_months_ago</th>\n",
              "      <th>revenue_roaming_3_months_ago</th>\n",
              "      <th>total_revenue_3_months_ago</th>\n",
              "      <th>airtime_to_data_service_1_month_ago</th>\n",
              "      <th>airtime_incoming_1_month_ago</th>\n",
              "      <th>airtime_to_mobile_1_month_ago</th>\n",
              "      <th>calls_to_data_service_3_months_ago</th>\n",
              "      <th>calls_incoming_3_months_ago</th>\n",
              "      <th>calls_roaming_3_months_ago</th>\n",
              "    </tr>\n",
              "  </thead>\n",
              "  <tbody>\n",
              "    <tr>\n",
              "      <th>0</th>\n",
              "      <td>0</td>\n",
              "      <td>25.409096</td>\n",
              "      <td>21</td>\n",
              "      <td>0</td>\n",
              "      <td>14</td>\n",
              "      <td>Standing Order</td>\n",
              "      <td>0</td>\n",
              "      <td>0</td>\n",
              "      <td>D</td>\n",
              "      <td>Female</td>\n",
              "      <td>5</td>\n",
              "      <td>0</td>\n",
              "      <td>7.827187</td>\n",
              "      <td>0.00</td>\n",
              "      <td>0.0</td>\n",
              "      <td>7.827187</td>\n",
              "      <td>0.0</td>\n",
              "      <td>1105.413331</td>\n",
              "      <td>439.863154</td>\n",
              "      <td>0</td>\n",
              "      <td>75</td>\n",
              "      <td>0</td>\n",
              "    </tr>\n",
              "    <tr>\n",
              "      <th>1</th>\n",
              "      <td>1</td>\n",
              "      <td>572.107602</td>\n",
              "      <td>29</td>\n",
              "      <td>0</td>\n",
              "      <td>26</td>\n",
              "      <td>Standing Order</td>\n",
              "      <td>0</td>\n",
              "      <td>7</td>\n",
              "      <td>B</td>\n",
              "      <td>Male</td>\n",
              "      <td>8</td>\n",
              "      <td>0</td>\n",
              "      <td>436.528877</td>\n",
              "      <td>0.00</td>\n",
              "      <td>0.0</td>\n",
              "      <td>436.528877</td>\n",
              "      <td>0.0</td>\n",
              "      <td>54991.234822</td>\n",
              "      <td>44696.346418</td>\n",
              "      <td>0</td>\n",
              "      <td>199</td>\n",
              "      <td>3</td>\n",
              "    </tr>\n",
              "    <tr>\n",
              "      <th>2</th>\n",
              "      <td>0</td>\n",
              "      <td>57.456634</td>\n",
              "      <td>20</td>\n",
              "      <td>0</td>\n",
              "      <td>10</td>\n",
              "      <td>Standing Order</td>\n",
              "      <td>0</td>\n",
              "      <td>1</td>\n",
              "      <td>D</td>\n",
              "      <td>Female</td>\n",
              "      <td>5</td>\n",
              "      <td>0</td>\n",
              "      <td>69.884354</td>\n",
              "      <td>28.12</td>\n",
              "      <td>0.0</td>\n",
              "      <td>98.004354</td>\n",
              "      <td>0.0</td>\n",
              "      <td>684.385557</td>\n",
              "      <td>651.221462</td>\n",
              "      <td>0</td>\n",
              "      <td>54</td>\n",
              "      <td>0</td>\n",
              "    </tr>\n",
              "    <tr>\n",
              "      <th>3</th>\n",
              "      <td>1</td>\n",
              "      <td>292.595896</td>\n",
              "      <td>47</td>\n",
              "      <td>1</td>\n",
              "      <td>29</td>\n",
              "      <td>Standing Order</td>\n",
              "      <td>0</td>\n",
              "      <td>5</td>\n",
              "      <td>A</td>\n",
              "      <td>Male</td>\n",
              "      <td>18</td>\n",
              "      <td>0</td>\n",
              "      <td>419.516818</td>\n",
              "      <td>62.60</td>\n",
              "      <td>0.0</td>\n",
              "      <td>482.116818</td>\n",
              "      <td>0.0</td>\n",
              "      <td>12523.260237</td>\n",
              "      <td>4837.449854</td>\n",
              "      <td>0</td>\n",
              "      <td>134</td>\n",
              "      <td>0</td>\n",
              "    </tr>\n",
              "    <tr>\n",
              "      <th>4</th>\n",
              "      <td>0</td>\n",
              "      <td>6.599228</td>\n",
              "      <td>47</td>\n",
              "      <td>0</td>\n",
              "      <td>10</td>\n",
              "      <td>Standing Order</td>\n",
              "      <td>0</td>\n",
              "      <td>7</td>\n",
              "      <td>D</td>\n",
              "      <td>Male</td>\n",
              "      <td>8</td>\n",
              "      <td>0</td>\n",
              "      <td>12.092878</td>\n",
              "      <td>0.00</td>\n",
              "      <td>0.0</td>\n",
              "      <td>12.092878</td>\n",
              "      <td>0.0</td>\n",
              "      <td>2531.737199</td>\n",
              "      <td>73.926074</td>\n",
              "      <td>0</td>\n",
              "      <td>21</td>\n",
              "      <td>0</td>\n",
              "    </tr>\n",
              "  </tbody>\n",
              "</table>\n",
              "</div>"
            ],
            "text/plain": [
              "   churn      profit  ...  calls_incoming_3_months_ago  calls_roaming_3_months_ago\n",
              "0      0   25.409096  ...                           75                           0\n",
              "1      1  572.107602  ...                          199                           3\n",
              "2      0   57.456634  ...                           54                           0\n",
              "3      1  292.595896  ...                          134                           0\n",
              "4      0    6.599228  ...                           21                           0\n",
              "\n",
              "[5 rows x 22 columns]"
            ]
          },
          "metadata": {
            "tags": []
          },
          "execution_count": 6
        }
      ]
    },
    {
      "cell_type": "markdown",
      "metadata": {
        "id": "uQ_qNK6zdTs2"
      },
      "source": [
        "Sprawdzenie, czy tablica zawiera wartość null."
      ]
    },
    {
      "cell_type": "code",
      "metadata": {
        "colab": {
          "base_uri": "https://localhost:8080/"
        },
        "id": "JqvnwvlFdLSd",
        "outputId": "cdd59fa8-f8bc-4a9b-8142-df26ce438810"
      },
      "source": [
        "df.isnull().sum()"
      ],
      "execution_count": null,
      "outputs": [
        {
          "output_type": "execute_result",
          "data": {
            "text/plain": [
              "churn                                  0\n",
              "profit                                 0\n",
              "age                                    0\n",
              "cancelled                              0\n",
              "months_start                           0\n",
              "way_of_payment                         0\n",
              "promotion                              0\n",
              "region                                 0\n",
              "profit_segment                         0\n",
              "sex                                    0\n",
              "tariff_model                           0\n",
              "academic_title                         0\n",
              "revenue_calls_3_months_ago             0\n",
              "fixed_revenue_3_months_ago             0\n",
              "revenue_roaming_3_months_ago           0\n",
              "total_revenue_3_months_ago             0\n",
              "airtime_to_data_service_1_month_ago    0\n",
              "airtime_incoming_1_month_ago           0\n",
              "airtime_to_mobile_1_month_ago          0\n",
              "calls_to_data_service_3_months_ago     0\n",
              "calls_incoming_3_months_ago            0\n",
              "calls_roaming_3_months_ago             0\n",
              "dtype: int64"
            ]
          },
          "metadata": {
            "tags": []
          },
          "execution_count": 7
        }
      ]
    },
    {
      "cell_type": "markdown",
      "metadata": {
        "id": "Q_V-PAt3eolz"
      },
      "source": [
        "Utworzenie macierzy korelacji i sprawdzenie, czy są zmienne, które należy usunąć."
      ]
    },
    {
      "cell_type": "code",
      "metadata": {
        "colab": {
          "base_uri": "https://localhost:8080/",
          "height": 777
        },
        "id": "gIwJQeI2doVF",
        "outputId": "f88bcda5-4fcb-4c44-e9b7-2989ceaf1e6d"
      },
      "source": [
        "correlation_matrix = df.corr(method = \"spearman\").abs()\n",
        "\n",
        "fig = plt.figure(figsize=(14,10))\n",
        "sns.heatmap(correlation_matrix, cmap='OrRd', square=True)\n",
        "plt.show()\n",
        "\n",
        "upper = correlation_matrix.where(np.triu(np.ones(correlation_matrix.shape), k = 1).astype(np.bool))\n",
        "to_drop = [column for column in upper.columns if any(upper[column] > 0.80)]"
      ],
      "execution_count": null,
      "outputs": [
        {
          "output_type": "display_data",
          "data": {
            "image/png": "[encoded data removed]",
            "text/plain": [
              "<Figure size 1008x720 with 2 Axes>"
            ]
          },
          "metadata": {
            "tags": [],
            "needs_background": "light"
          }
        }
      ]
    },
    {
      "cell_type": "markdown",
      "metadata": {
        "id": "I0tksJLTfBcR"
      },
      "source": [
        "Zmienne \"Total revenue (3 months ago)\" i \"Revenue from calls\" mają wysoką korelację, więc jedną z nich można usunąć."
      ]
    },
    {
      "cell_type": "code",
      "metadata": {
        "id": "kGCpiS3hfYI7"
      },
      "source": [
        "df_after_correlation = df.drop(to_drop, axis=1)"
      ],
      "execution_count": null,
      "outputs": []
    },
    {
      "cell_type": "code",
      "metadata": {
        "colab": {
          "base_uri": "https://localhost:8080/",
          "height": 224
        },
        "id": "Ju9pdeCifrvW",
        "outputId": "0f6fe859-e1e9-48e5-c77a-345683f29c4f"
      },
      "source": [
        "df.head()"
      ],
      "execution_count": null,
      "outputs": [
        {
          "output_type": "execute_result",
          "data": {
            "text/html": [
              "<div>\n",
              "<style scoped>\n",
              "    .dataframe tbody tr th:only-of-type {\n",
              "        vertical-align: middle;\n",
              "    }\n",
              "\n",
              "    .dataframe tbody tr th {\n",
              "        vertical-align: top;\n",
              "    }\n",
              "\n",
              "    .dataframe thead th {\n",
              "        text-align: right;\n",
              "    }\n",
              "</style>\n",
              "<table border=\"1\" class=\"dataframe\">\n",
              "  <thead>\n",
              "    <tr style=\"text-align: right;\">\n",
              "      <th></th>\n",
              "      <th>churn</th>\n",
              "      <th>profit</th>\n",
              "      <th>age</th>\n",
              "      <th>cancelled</th>\n",
              "      <th>months_start</th>\n",
              "      <th>way_of_payment</th>\n",
              "      <th>promotion</th>\n",
              "      <th>region</th>\n",
              "      <th>profit_segment</th>\n",
              "      <th>sex</th>\n",
              "      <th>tariff_model</th>\n",
              "      <th>academic_title</th>\n",
              "      <th>revenue_calls_3_months_ago</th>\n",
              "      <th>fixed_revenue_3_months_ago</th>\n",
              "      <th>revenue_roaming_3_months_ago</th>\n",
              "      <th>total_revenue_3_months_ago</th>\n",
              "      <th>airtime_to_data_service_1_month_ago</th>\n",
              "      <th>airtime_incoming_1_month_ago</th>\n",
              "      <th>airtime_to_mobile_1_month_ago</th>\n",
              "      <th>calls_to_data_service_3_months_ago</th>\n",
              "      <th>calls_incoming_3_months_ago</th>\n",
              "      <th>calls_roaming_3_months_ago</th>\n",
              "    </tr>\n",
              "  </thead>\n",
              "  <tbody>\n",
              "    <tr>\n",
              "      <th>0</th>\n",
              "      <td>0</td>\n",
              "      <td>25.409096</td>\n",
              "      <td>21</td>\n",
              "      <td>0</td>\n",
              "      <td>14</td>\n",
              "      <td>Standing Order</td>\n",
              "      <td>0</td>\n",
              "      <td>0</td>\n",
              "      <td>D</td>\n",
              "      <td>Female</td>\n",
              "      <td>5</td>\n",
              "      <td>0</td>\n",
              "      <td>7.827187</td>\n",
              "      <td>0.00</td>\n",
              "      <td>0.0</td>\n",
              "      <td>7.827187</td>\n",
              "      <td>0.0</td>\n",
              "      <td>1105.413331</td>\n",
              "      <td>439.863154</td>\n",
              "      <td>0</td>\n",
              "      <td>75</td>\n",
              "      <td>0</td>\n",
              "    </tr>\n",
              "    <tr>\n",
              "      <th>1</th>\n",
              "      <td>1</td>\n",
              "      <td>572.107602</td>\n",
              "      <td>29</td>\n",
              "      <td>0</td>\n",
              "      <td>26</td>\n",
              "      <td>Standing Order</td>\n",
              "      <td>0</td>\n",
              "      <td>7</td>\n",
              "      <td>B</td>\n",
              "      <td>Male</td>\n",
              "      <td>8</td>\n",
              "      <td>0</td>\n",
              "      <td>436.528877</td>\n",
              "      <td>0.00</td>\n",
              "      <td>0.0</td>\n",
              "      <td>436.528877</td>\n",
              "      <td>0.0</td>\n",
              "      <td>54991.234822</td>\n",
              "      <td>44696.346418</td>\n",
              "      <td>0</td>\n",
              "      <td>199</td>\n",
              "      <td>3</td>\n",
              "    </tr>\n",
              "    <tr>\n",
              "      <th>2</th>\n",
              "      <td>0</td>\n",
              "      <td>57.456634</td>\n",
              "      <td>20</td>\n",
              "      <td>0</td>\n",
              "      <td>10</td>\n",
              "      <td>Standing Order</td>\n",
              "      <td>0</td>\n",
              "      <td>1</td>\n",
              "      <td>D</td>\n",
              "      <td>Female</td>\n",
              "      <td>5</td>\n",
              "      <td>0</td>\n",
              "      <td>69.884354</td>\n",
              "      <td>28.12</td>\n",
              "      <td>0.0</td>\n",
              "      <td>98.004354</td>\n",
              "      <td>0.0</td>\n",
              "      <td>684.385557</td>\n",
              "      <td>651.221462</td>\n",
              "      <td>0</td>\n",
              "      <td>54</td>\n",
              "      <td>0</td>\n",
              "    </tr>\n",
              "    <tr>\n",
              "      <th>3</th>\n",
              "      <td>1</td>\n",
              "      <td>292.595896</td>\n",
              "      <td>47</td>\n",
              "      <td>1</td>\n",
              "      <td>29</td>\n",
              "      <td>Standing Order</td>\n",
              "      <td>0</td>\n",
              "      <td>5</td>\n",
              "      <td>A</td>\n",
              "      <td>Male</td>\n",
              "      <td>18</td>\n",
              "      <td>0</td>\n",
              "      <td>419.516818</td>\n",
              "      <td>62.60</td>\n",
              "      <td>0.0</td>\n",
              "      <td>482.116818</td>\n",
              "      <td>0.0</td>\n",
              "      <td>12523.260237</td>\n",
              "      <td>4837.449854</td>\n",
              "      <td>0</td>\n",
              "      <td>134</td>\n",
              "      <td>0</td>\n",
              "    </tr>\n",
              "    <tr>\n",
              "      <th>4</th>\n",
              "      <td>0</td>\n",
              "      <td>6.599228</td>\n",
              "      <td>47</td>\n",
              "      <td>0</td>\n",
              "      <td>10</td>\n",
              "      <td>Standing Order</td>\n",
              "      <td>0</td>\n",
              "      <td>7</td>\n",
              "      <td>D</td>\n",
              "      <td>Male</td>\n",
              "      <td>8</td>\n",
              "      <td>0</td>\n",
              "      <td>12.092878</td>\n",
              "      <td>0.00</td>\n",
              "      <td>0.0</td>\n",
              "      <td>12.092878</td>\n",
              "      <td>0.0</td>\n",
              "      <td>2531.737199</td>\n",
              "      <td>73.926074</td>\n",
              "      <td>0</td>\n",
              "      <td>21</td>\n",
              "      <td>0</td>\n",
              "    </tr>\n",
              "  </tbody>\n",
              "</table>\n",
              "</div>"
            ],
            "text/plain": [
              "   churn      profit  ...  calls_incoming_3_months_ago  calls_roaming_3_months_ago\n",
              "0      0   25.409096  ...                           75                           0\n",
              "1      1  572.107602  ...                          199                           3\n",
              "2      0   57.456634  ...                           54                           0\n",
              "3      1  292.595896  ...                          134                           0\n",
              "4      0    6.599228  ...                           21                           0\n",
              "\n",
              "[5 rows x 22 columns]"
            ]
          },
          "metadata": {
            "tags": []
          },
          "execution_count": 10
        }
      ]
    },
    {
      "cell_type": "markdown",
      "metadata": {
        "id": "JOgTxGWLgIeS"
      },
      "source": [
        "Przekształcanie danych kategorycznych na dane nominalne w Sex"
      ]
    },
    {
      "cell_type": "code",
      "metadata": {
        "colab": {
          "base_uri": "https://localhost:8080/"
        },
        "id": "E9vJ9xzgfrG2",
        "outputId": "d75c05be-5398-405b-f5d6-b1d183a1122d"
      },
      "source": [
        "df_after_correlation['sex'] = pd.factorize(df_after_correlation['sex'])[0]\n",
        "df_after_correlation.sex.value_counts()"
      ],
      "execution_count": null,
      "outputs": [
        {
          "output_type": "execute_result",
          "data": {
            "text/plain": [
              "1    8970\n",
              "0    2840\n",
              "Name: sex, dtype: int64"
            ]
          },
          "metadata": {
            "tags": []
          },
          "execution_count": 11
        }
      ]
    },
    {
      "cell_type": "markdown",
      "metadata": {
        "id": "FWjONZRdkU9u"
      },
      "source": [
        "Przekształcanie danych kategorycznych na dane nominalne w way_of_payment"
      ]
    },
    {
      "cell_type": "code",
      "metadata": {
        "colab": {
          "base_uri": "https://localhost:8080/"
        },
        "id": "k960JbZHgYks",
        "outputId": "468dfdfe-7027-4ad0-89ba-36261aeb45af"
      },
      "source": [
        "df_after_correlation['way_of_payment'] = pd.factorize(df_after_correlation['way_of_payment'])[0]\n",
        "df_after_correlation.way_of_payment.value_counts()"
      ],
      "execution_count": null,
      "outputs": [
        {
          "output_type": "execute_result",
          "data": {
            "text/plain": [
              "0    11270\n",
              "1      540\n",
              "Name: way_of_payment, dtype: int64"
            ]
          },
          "metadata": {
            "tags": []
          },
          "execution_count": 12
        }
      ]
    },
    {
      "cell_type": "markdown",
      "metadata": {
        "id": "ZjBhjfylkX9l"
      },
      "source": [
        "Przekształcanie danych kategorycznych na dane nominalne w profit_segment"
      ]
    },
    {
      "cell_type": "code",
      "metadata": {
        "colab": {
          "base_uri": "https://localhost:8080/"
        },
        "id": "szG3ROCHgzFc",
        "outputId": "3797d5e0-4a4d-4805-97e2-97c5b5df838e"
      },
      "source": [
        "df_after_correlation['profit_segment'] = pd.factorize(df_after_correlation['profit_segment'])[0]\n",
        "df_after_correlation.profit_segment.value_counts()"
      ],
      "execution_count": null,
      "outputs": [
        {
          "output_type": "execute_result",
          "data": {
            "text/plain": [
              "0    7140\n",
              "3    2240\n",
              "4    1360\n",
              "1     910\n",
              "2     160\n",
              "Name: profit_segment, dtype: int64"
            ]
          },
          "metadata": {
            "tags": []
          },
          "execution_count": 13
        }
      ]
    },
    {
      "cell_type": "markdown",
      "metadata": {
        "id": "0oUkiOc-wOZO"
      },
      "source": [
        "Jest to wyjątek, ponieważ w kolumnie, mimo że występowały wartości liczbowe, występował parametr \"F\". Dla wygody 'F' zostaje przekształcone w int."
      ]
    },
    {
      "cell_type": "code",
      "metadata": {
        "colab": {
          "base_uri": "https://localhost:8080/"
        },
        "id": "ol3zS4cWvy4h",
        "outputId": "fc0fb68f-37e5-4676-e78b-e663286adec3"
      },
      "source": [
        "df_after_correlation['region'] = pd.factorize(df_after_correlation['region'])[0]\n",
        "df_after_correlation.region.value_counts()"
      ],
      "execution_count": null,
      "outputs": [
        {
          "output_type": "execute_result",
          "data": {
            "text/plain": [
              "3     1960\n",
              "5     1420\n",
              "1     1320\n",
              "6     1300\n",
              "9     1240\n",
              "7     1070\n",
              "4     1050\n",
              "8     1000\n",
              "2      850\n",
              "0      580\n",
              "10      20\n",
              "Name: region, dtype: int64"
            ]
          },
          "metadata": {
            "tags": []
          },
          "execution_count": 14
        }
      ]
    },
    {
      "cell_type": "markdown",
      "metadata": {
        "id": "p6sPTKPplEHl"
      },
      "source": [
        "Wszystkie zmienne są reprezentowane w postaci liczbowej, co pozwala na zastosowanie większej ilości modeli uczenia maszynowego, ponieważ niektóre z nich nie rozumieją danych typu string."
      ]
    },
    {
      "cell_type": "code",
      "metadata": {
        "colab": {
          "base_uri": "https://localhost:8080/",
          "height": 224
        },
        "id": "saJJlZU4koEz",
        "outputId": "59d6ba76-86ae-4f28-90ad-1544e2c415de"
      },
      "source": [
        "df_after_correlation.head()"
      ],
      "execution_count": null,
      "outputs": [
        {
          "output_type": "execute_result",
          "data": {
            "text/html": [
              "<div>\n",
              "<style scoped>\n",
              "    .dataframe tbody tr th:only-of-type {\n",
              "        vertical-align: middle;\n",
              "    }\n",
              "\n",
              "    .dataframe tbody tr th {\n",
              "        vertical-align: top;\n",
              "    }\n",
              "\n",
              "    .dataframe thead th {\n",
              "        text-align: right;\n",
              "    }\n",
              "</style>\n",
              "<table border=\"1\" class=\"dataframe\">\n",
              "  <thead>\n",
              "    <tr style=\"text-align: right;\">\n",
              "      <th></th>\n",
              "      <th>churn</th>\n",
              "      <th>profit</th>\n",
              "      <th>age</th>\n",
              "      <th>cancelled</th>\n",
              "      <th>months_start</th>\n",
              "      <th>way_of_payment</th>\n",
              "      <th>promotion</th>\n",
              "      <th>region</th>\n",
              "      <th>profit_segment</th>\n",
              "      <th>sex</th>\n",
              "      <th>tariff_model</th>\n",
              "      <th>academic_title</th>\n",
              "      <th>revenue_calls_3_months_ago</th>\n",
              "      <th>fixed_revenue_3_months_ago</th>\n",
              "      <th>revenue_roaming_3_months_ago</th>\n",
              "      <th>airtime_to_data_service_1_month_ago</th>\n",
              "      <th>airtime_incoming_1_month_ago</th>\n",
              "      <th>airtime_to_mobile_1_month_ago</th>\n",
              "      <th>calls_to_data_service_3_months_ago</th>\n",
              "      <th>calls_incoming_3_months_ago</th>\n",
              "      <th>calls_roaming_3_months_ago</th>\n",
              "    </tr>\n",
              "  </thead>\n",
              "  <tbody>\n",
              "    <tr>\n",
              "      <th>0</th>\n",
              "      <td>0</td>\n",
              "      <td>25.409096</td>\n",
              "      <td>21</td>\n",
              "      <td>0</td>\n",
              "      <td>14</td>\n",
              "      <td>0</td>\n",
              "      <td>0</td>\n",
              "      <td>0</td>\n",
              "      <td>0</td>\n",
              "      <td>0</td>\n",
              "      <td>5</td>\n",
              "      <td>0</td>\n",
              "      <td>7.827187</td>\n",
              "      <td>0.00</td>\n",
              "      <td>0.0</td>\n",
              "      <td>0.0</td>\n",
              "      <td>1105.413331</td>\n",
              "      <td>439.863154</td>\n",
              "      <td>0</td>\n",
              "      <td>75</td>\n",
              "      <td>0</td>\n",
              "    </tr>\n",
              "    <tr>\n",
              "      <th>1</th>\n",
              "      <td>1</td>\n",
              "      <td>572.107602</td>\n",
              "      <td>29</td>\n",
              "      <td>0</td>\n",
              "      <td>26</td>\n",
              "      <td>0</td>\n",
              "      <td>0</td>\n",
              "      <td>1</td>\n",
              "      <td>1</td>\n",
              "      <td>1</td>\n",
              "      <td>8</td>\n",
              "      <td>0</td>\n",
              "      <td>436.528877</td>\n",
              "      <td>0.00</td>\n",
              "      <td>0.0</td>\n",
              "      <td>0.0</td>\n",
              "      <td>54991.234822</td>\n",
              "      <td>44696.346418</td>\n",
              "      <td>0</td>\n",
              "      <td>199</td>\n",
              "      <td>3</td>\n",
              "    </tr>\n",
              "    <tr>\n",
              "      <th>2</th>\n",
              "      <td>0</td>\n",
              "      <td>57.456634</td>\n",
              "      <td>20</td>\n",
              "      <td>0</td>\n",
              "      <td>10</td>\n",
              "      <td>0</td>\n",
              "      <td>0</td>\n",
              "      <td>2</td>\n",
              "      <td>0</td>\n",
              "      <td>0</td>\n",
              "      <td>5</td>\n",
              "      <td>0</td>\n",
              "      <td>69.884354</td>\n",
              "      <td>28.12</td>\n",
              "      <td>0.0</td>\n",
              "      <td>0.0</td>\n",
              "      <td>684.385557</td>\n",
              "      <td>651.221462</td>\n",
              "      <td>0</td>\n",
              "      <td>54</td>\n",
              "      <td>0</td>\n",
              "    </tr>\n",
              "    <tr>\n",
              "      <th>3</th>\n",
              "      <td>1</td>\n",
              "      <td>292.595896</td>\n",
              "      <td>47</td>\n",
              "      <td>1</td>\n",
              "      <td>29</td>\n",
              "      <td>0</td>\n",
              "      <td>0</td>\n",
              "      <td>3</td>\n",
              "      <td>2</td>\n",
              "      <td>1</td>\n",
              "      <td>18</td>\n",
              "      <td>0</td>\n",
              "      <td>419.516818</td>\n",
              "      <td>62.60</td>\n",
              "      <td>0.0</td>\n",
              "      <td>0.0</td>\n",
              "      <td>12523.260237</td>\n",
              "      <td>4837.449854</td>\n",
              "      <td>0</td>\n",
              "      <td>134</td>\n",
              "      <td>0</td>\n",
              "    </tr>\n",
              "    <tr>\n",
              "      <th>4</th>\n",
              "      <td>0</td>\n",
              "      <td>6.599228</td>\n",
              "      <td>47</td>\n",
              "      <td>0</td>\n",
              "      <td>10</td>\n",
              "      <td>0</td>\n",
              "      <td>0</td>\n",
              "      <td>1</td>\n",
              "      <td>0</td>\n",
              "      <td>1</td>\n",
              "      <td>8</td>\n",
              "      <td>0</td>\n",
              "      <td>12.092878</td>\n",
              "      <td>0.00</td>\n",
              "      <td>0.0</td>\n",
              "      <td>0.0</td>\n",
              "      <td>2531.737199</td>\n",
              "      <td>73.926074</td>\n",
              "      <td>0</td>\n",
              "      <td>21</td>\n",
              "      <td>0</td>\n",
              "    </tr>\n",
              "  </tbody>\n",
              "</table>\n",
              "</div>"
            ],
            "text/plain": [
              "   churn      profit  ...  calls_incoming_3_months_ago  calls_roaming_3_months_ago\n",
              "0      0   25.409096  ...                           75                           0\n",
              "1      1  572.107602  ...                          199                           3\n",
              "2      0   57.456634  ...                           54                           0\n",
              "3      1  292.595896  ...                          134                           0\n",
              "4      0    6.599228  ...                           21                           0\n",
              "\n",
              "[5 rows x 21 columns]"
            ]
          },
          "metadata": {
            "tags": []
          },
          "execution_count": 15
        }
      ]
    },
    {
      "cell_type": "code",
      "metadata": {
        "colab": {
          "base_uri": "https://localhost:8080/",
          "height": 317
        },
        "id": "g0zx17LBlShi",
        "outputId": "98a3877f-221d-4bc8-bb40-12d609829b21"
      },
      "source": [
        "df_after_correlation.describe()"
      ],
      "execution_count": null,
      "outputs": [
        {
          "output_type": "execute_result",
          "data": {
            "text/html": [
              "<div>\n",
              "<style scoped>\n",
              "    .dataframe tbody tr th:only-of-type {\n",
              "        vertical-align: middle;\n",
              "    }\n",
              "\n",
              "    .dataframe tbody tr th {\n",
              "        vertical-align: top;\n",
              "    }\n",
              "\n",
              "    .dataframe thead th {\n",
              "        text-align: right;\n",
              "    }\n",
              "</style>\n",
              "<table border=\"1\" class=\"dataframe\">\n",
              "  <thead>\n",
              "    <tr style=\"text-align: right;\">\n",
              "      <th></th>\n",
              "      <th>churn</th>\n",
              "      <th>profit</th>\n",
              "      <th>age</th>\n",
              "      <th>cancelled</th>\n",
              "      <th>months_start</th>\n",
              "      <th>way_of_payment</th>\n",
              "      <th>promotion</th>\n",
              "      <th>region</th>\n",
              "      <th>profit_segment</th>\n",
              "      <th>sex</th>\n",
              "      <th>tariff_model</th>\n",
              "      <th>academic_title</th>\n",
              "      <th>revenue_calls_3_months_ago</th>\n",
              "      <th>fixed_revenue_3_months_ago</th>\n",
              "      <th>revenue_roaming_3_months_ago</th>\n",
              "      <th>airtime_to_data_service_1_month_ago</th>\n",
              "      <th>airtime_incoming_1_month_ago</th>\n",
              "      <th>airtime_to_mobile_1_month_ago</th>\n",
              "      <th>calls_to_data_service_3_months_ago</th>\n",
              "      <th>calls_incoming_3_months_ago</th>\n",
              "      <th>calls_roaming_3_months_ago</th>\n",
              "    </tr>\n",
              "  </thead>\n",
              "  <tbody>\n",
              "    <tr>\n",
              "      <th>count</th>\n",
              "      <td>11810.000000</td>\n",
              "      <td>11810.000000</td>\n",
              "      <td>11810.000000</td>\n",
              "      <td>11810.000000</td>\n",
              "      <td>11810.000000</td>\n",
              "      <td>11810.000000</td>\n",
              "      <td>11810.0</td>\n",
              "      <td>11810.000000</td>\n",
              "      <td>11810.000000</td>\n",
              "      <td>11810.000000</td>\n",
              "      <td>11810.000000</td>\n",
              "      <td>11810.000000</td>\n",
              "      <td>11810.000000</td>\n",
              "      <td>11810.000000</td>\n",
              "      <td>11810.000000</td>\n",
              "      <td>11810.000000</td>\n",
              "      <td>11810.000000</td>\n",
              "      <td>11810.000000</td>\n",
              "      <td>11810.0</td>\n",
              "      <td>11810.000000</td>\n",
              "      <td>11810.000000</td>\n",
              "    </tr>\n",
              "    <tr>\n",
              "      <th>mean</th>\n",
              "      <td>0.100000</td>\n",
              "      <td>101.098452</td>\n",
              "      <td>28.219306</td>\n",
              "      <td>0.020237</td>\n",
              "      <td>16.807790</td>\n",
              "      <td>0.045724</td>\n",
              "      <td>0.0</td>\n",
              "      <td>4.644369</td>\n",
              "      <td>1.133785</td>\n",
              "      <td>0.759526</td>\n",
              "      <td>10.215072</td>\n",
              "      <td>0.024555</td>\n",
              "      <td>51.729468</td>\n",
              "      <td>28.688493</td>\n",
              "      <td>8.611292</td>\n",
              "      <td>0.087792</td>\n",
              "      <td>2918.518792</td>\n",
              "      <td>1137.365030</td>\n",
              "      <td>0.0</td>\n",
              "      <td>35.549958</td>\n",
              "      <td>0.611262</td>\n",
              "    </tr>\n",
              "    <tr>\n",
              "      <th>std</th>\n",
              "      <td>0.300013</td>\n",
              "      <td>209.927808</td>\n",
              "      <td>6.590383</td>\n",
              "      <td>0.140816</td>\n",
              "      <td>9.520886</td>\n",
              "      <td>0.208895</td>\n",
              "      <td>0.0</td>\n",
              "      <td>2.692128</td>\n",
              "      <td>1.547745</td>\n",
              "      <td>0.427390</td>\n",
              "      <td>5.606525</td>\n",
              "      <td>0.154772</td>\n",
              "      <td>105.807331</td>\n",
              "      <td>11.855100</td>\n",
              "      <td>45.855806</td>\n",
              "      <td>3.023441</td>\n",
              "      <td>5246.237369</td>\n",
              "      <td>3272.294606</td>\n",
              "      <td>0.0</td>\n",
              "      <td>51.172809</td>\n",
              "      <td>2.939251</td>\n",
              "    </tr>\n",
              "    <tr>\n",
              "      <th>min</th>\n",
              "      <td>0.000000</td>\n",
              "      <td>0.000000</td>\n",
              "      <td>20.000000</td>\n",
              "      <td>0.000000</td>\n",
              "      <td>6.000000</td>\n",
              "      <td>0.000000</td>\n",
              "      <td>0.0</td>\n",
              "      <td>0.000000</td>\n",
              "      <td>0.000000</td>\n",
              "      <td>0.000000</td>\n",
              "      <td>1.000000</td>\n",
              "      <td>0.000000</td>\n",
              "      <td>0.000000</td>\n",
              "      <td>0.000000</td>\n",
              "      <td>0.000000</td>\n",
              "      <td>0.000000</td>\n",
              "      <td>0.000000</td>\n",
              "      <td>0.000000</td>\n",
              "      <td>0.0</td>\n",
              "      <td>0.000000</td>\n",
              "      <td>0.000000</td>\n",
              "    </tr>\n",
              "    <tr>\n",
              "      <th>25%</th>\n",
              "      <td>0.000000</td>\n",
              "      <td>26.062782</td>\n",
              "      <td>24.000000</td>\n",
              "      <td>0.000000</td>\n",
              "      <td>10.000000</td>\n",
              "      <td>0.000000</td>\n",
              "      <td>0.0</td>\n",
              "      <td>3.000000</td>\n",
              "      <td>0.000000</td>\n",
              "      <td>1.000000</td>\n",
              "      <td>5.000000</td>\n",
              "      <td>0.000000</td>\n",
              "      <td>6.920331</td>\n",
              "      <td>28.120000</td>\n",
              "      <td>0.000000</td>\n",
              "      <td>0.000000</td>\n",
              "      <td>155.317780</td>\n",
              "      <td>0.000000</td>\n",
              "      <td>0.0</td>\n",
              "      <td>4.000000</td>\n",
              "      <td>0.000000</td>\n",
              "    </tr>\n",
              "    <tr>\n",
              "      <th>50%</th>\n",
              "      <td>0.000000</td>\n",
              "      <td>61.802175</td>\n",
              "      <td>27.000000</td>\n",
              "      <td>0.000000</td>\n",
              "      <td>14.000000</td>\n",
              "      <td>0.000000</td>\n",
              "      <td>0.0</td>\n",
              "      <td>5.000000</td>\n",
              "      <td>0.000000</td>\n",
              "      <td>1.000000</td>\n",
              "      <td>8.000000</td>\n",
              "      <td>0.000000</td>\n",
              "      <td>21.319532</td>\n",
              "      <td>28.120000</td>\n",
              "      <td>0.000000</td>\n",
              "      <td>0.000000</td>\n",
              "      <td>878.190495</td>\n",
              "      <td>147.513869</td>\n",
              "      <td>0.0</td>\n",
              "      <td>17.000000</td>\n",
              "      <td>0.000000</td>\n",
              "    </tr>\n",
              "    <tr>\n",
              "      <th>75%</th>\n",
              "      <td>0.000000</td>\n",
              "      <td>113.761592</td>\n",
              "      <td>31.000000</td>\n",
              "      <td>0.000000</td>\n",
              "      <td>22.000000</td>\n",
              "      <td>0.000000</td>\n",
              "      <td>0.0</td>\n",
              "      <td>7.000000</td>\n",
              "      <td>3.000000</td>\n",
              "      <td>1.000000</td>\n",
              "      <td>16.000000</td>\n",
              "      <td>0.000000</td>\n",
              "      <td>57.896985</td>\n",
              "      <td>30.710000</td>\n",
              "      <td>0.000000</td>\n",
              "      <td>0.000000</td>\n",
              "      <td>3534.272460</td>\n",
              "      <td>911.889711</td>\n",
              "      <td>0.0</td>\n",
              "      <td>47.000000</td>\n",
              "      <td>0.000000</td>\n",
              "    </tr>\n",
              "    <tr>\n",
              "      <th>max</th>\n",
              "      <td>1.000000</td>\n",
              "      <td>11541.527297</td>\n",
              "      <td>50.000000</td>\n",
              "      <td>1.000000</td>\n",
              "      <td>71.000000</td>\n",
              "      <td>1.000000</td>\n",
              "      <td>0.0</td>\n",
              "      <td>10.000000</td>\n",
              "      <td>4.000000</td>\n",
              "      <td>1.000000</td>\n",
              "      <td>18.000000</td>\n",
              "      <td>1.000000</td>\n",
              "      <td>2843.420175</td>\n",
              "      <td>65.190000</td>\n",
              "      <td>990.817981</td>\n",
              "      <td>116.934334</td>\n",
              "      <td>64615.684971</td>\n",
              "      <td>56154.459996</td>\n",
              "      <td>0.0</td>\n",
              "      <td>643.000000</td>\n",
              "      <td>46.000000</td>\n",
              "    </tr>\n",
              "  </tbody>\n",
              "</table>\n",
              "</div>"
            ],
            "text/plain": [
              "              churn  ...  calls_roaming_3_months_ago\n",
              "count  11810.000000  ...                11810.000000\n",
              "mean       0.100000  ...                    0.611262\n",
              "std        0.300013  ...                    2.939251\n",
              "min        0.000000  ...                    0.000000\n",
              "25%        0.000000  ...                    0.000000\n",
              "50%        0.000000  ...                    0.000000\n",
              "75%        0.000000  ...                    0.000000\n",
              "max        1.000000  ...                   46.000000\n",
              "\n",
              "[8 rows x 21 columns]"
            ]
          },
          "metadata": {
            "tags": []
          },
          "execution_count": 16
        }
      ]
    },
    {
      "cell_type": "markdown",
      "metadata": {
        "id": "hsM7mQvzlZ32"
      },
      "source": [
        "Dane zostają przetworzone przy użyciu MinMaxScaler.\n"
      ]
    },
    {
      "cell_type": "code",
      "metadata": {
        "colab": {
          "base_uri": "https://localhost:8080/",
          "height": 224
        },
        "id": "vWSI9NVroxjG",
        "outputId": "3833f519-0615-4893-e25f-b7c167d666c0"
      },
      "source": [
        "X = df_after_correlation.drop(['churn'], axis=1)\n",
        "y = df_after_correlation.churn\n",
        "X.head()"
      ],
      "execution_count": null,
      "outputs": [
        {
          "output_type": "execute_result",
          "data": {
            "text/html": [
              "<div>\n",
              "<style scoped>\n",
              "    .dataframe tbody tr th:only-of-type {\n",
              "        vertical-align: middle;\n",
              "    }\n",
              "\n",
              "    .dataframe tbody tr th {\n",
              "        vertical-align: top;\n",
              "    }\n",
              "\n",
              "    .dataframe thead th {\n",
              "        text-align: right;\n",
              "    }\n",
              "</style>\n",
              "<table border=\"1\" class=\"dataframe\">\n",
              "  <thead>\n",
              "    <tr style=\"text-align: right;\">\n",
              "      <th></th>\n",
              "      <th>profit</th>\n",
              "      <th>age</th>\n",
              "      <th>cancelled</th>\n",
              "      <th>months_start</th>\n",
              "      <th>way_of_payment</th>\n",
              "      <th>promotion</th>\n",
              "      <th>region</th>\n",
              "      <th>profit_segment</th>\n",
              "      <th>sex</th>\n",
              "      <th>tariff_model</th>\n",
              "      <th>academic_title</th>\n",
              "      <th>revenue_calls_3_months_ago</th>\n",
              "      <th>fixed_revenue_3_months_ago</th>\n",
              "      <th>revenue_roaming_3_months_ago</th>\n",
              "      <th>airtime_to_data_service_1_month_ago</th>\n",
              "      <th>airtime_incoming_1_month_ago</th>\n",
              "      <th>airtime_to_mobile_1_month_ago</th>\n",
              "      <th>calls_to_data_service_3_months_ago</th>\n",
              "      <th>calls_incoming_3_months_ago</th>\n",
              "      <th>calls_roaming_3_months_ago</th>\n",
              "    </tr>\n",
              "  </thead>\n",
              "  <tbody>\n",
              "    <tr>\n",
              "      <th>0</th>\n",
              "      <td>25.409096</td>\n",
              "      <td>21</td>\n",
              "      <td>0</td>\n",
              "      <td>14</td>\n",
              "      <td>0</td>\n",
              "      <td>0</td>\n",
              "      <td>0</td>\n",
              "      <td>0</td>\n",
              "      <td>0</td>\n",
              "      <td>5</td>\n",
              "      <td>0</td>\n",
              "      <td>7.827187</td>\n",
              "      <td>0.00</td>\n",
              "      <td>0.0</td>\n",
              "      <td>0.0</td>\n",
              "      <td>1105.413331</td>\n",
              "      <td>439.863154</td>\n",
              "      <td>0</td>\n",
              "      <td>75</td>\n",
              "      <td>0</td>\n",
              "    </tr>\n",
              "    <tr>\n",
              "      <th>1</th>\n",
              "      <td>572.107602</td>\n",
              "      <td>29</td>\n",
              "      <td>0</td>\n",
              "      <td>26</td>\n",
              "      <td>0</td>\n",
              "      <td>0</td>\n",
              "      <td>1</td>\n",
              "      <td>1</td>\n",
              "      <td>1</td>\n",
              "      <td>8</td>\n",
              "      <td>0</td>\n",
              "      <td>436.528877</td>\n",
              "      <td>0.00</td>\n",
              "      <td>0.0</td>\n",
              "      <td>0.0</td>\n",
              "      <td>54991.234822</td>\n",
              "      <td>44696.346418</td>\n",
              "      <td>0</td>\n",
              "      <td>199</td>\n",
              "      <td>3</td>\n",
              "    </tr>\n",
              "    <tr>\n",
              "      <th>2</th>\n",
              "      <td>57.456634</td>\n",
              "      <td>20</td>\n",
              "      <td>0</td>\n",
              "      <td>10</td>\n",
              "      <td>0</td>\n",
              "      <td>0</td>\n",
              "      <td>2</td>\n",
              "      <td>0</td>\n",
              "      <td>0</td>\n",
              "      <td>5</td>\n",
              "      <td>0</td>\n",
              "      <td>69.884354</td>\n",
              "      <td>28.12</td>\n",
              "      <td>0.0</td>\n",
              "      <td>0.0</td>\n",
              "      <td>684.385557</td>\n",
              "      <td>651.221462</td>\n",
              "      <td>0</td>\n",
              "      <td>54</td>\n",
              "      <td>0</td>\n",
              "    </tr>\n",
              "    <tr>\n",
              "      <th>3</th>\n",
              "      <td>292.595896</td>\n",
              "      <td>47</td>\n",
              "      <td>1</td>\n",
              "      <td>29</td>\n",
              "      <td>0</td>\n",
              "      <td>0</td>\n",
              "      <td>3</td>\n",
              "      <td>2</td>\n",
              "      <td>1</td>\n",
              "      <td>18</td>\n",
              "      <td>0</td>\n",
              "      <td>419.516818</td>\n",
              "      <td>62.60</td>\n",
              "      <td>0.0</td>\n",
              "      <td>0.0</td>\n",
              "      <td>12523.260237</td>\n",
              "      <td>4837.449854</td>\n",
              "      <td>0</td>\n",
              "      <td>134</td>\n",
              "      <td>0</td>\n",
              "    </tr>\n",
              "    <tr>\n",
              "      <th>4</th>\n",
              "      <td>6.599228</td>\n",
              "      <td>47</td>\n",
              "      <td>0</td>\n",
              "      <td>10</td>\n",
              "      <td>0</td>\n",
              "      <td>0</td>\n",
              "      <td>1</td>\n",
              "      <td>0</td>\n",
              "      <td>1</td>\n",
              "      <td>8</td>\n",
              "      <td>0</td>\n",
              "      <td>12.092878</td>\n",
              "      <td>0.00</td>\n",
              "      <td>0.0</td>\n",
              "      <td>0.0</td>\n",
              "      <td>2531.737199</td>\n",
              "      <td>73.926074</td>\n",
              "      <td>0</td>\n",
              "      <td>21</td>\n",
              "      <td>0</td>\n",
              "    </tr>\n",
              "  </tbody>\n",
              "</table>\n",
              "</div>"
            ],
            "text/plain": [
              "       profit  age  ...  calls_incoming_3_months_ago  calls_roaming_3_months_ago\n",
              "0   25.409096   21  ...                           75                           0\n",
              "1  572.107602   29  ...                          199                           3\n",
              "2   57.456634   20  ...                           54                           0\n",
              "3  292.595896   47  ...                          134                           0\n",
              "4    6.599228   47  ...                           21                           0\n",
              "\n",
              "[5 rows x 20 columns]"
            ]
          },
          "metadata": {
            "tags": []
          },
          "execution_count": 17
        }
      ]
    },
    {
      "cell_type": "markdown",
      "metadata": {
        "id": "13c40uegxe00"
      },
      "source": [
        "Standaryzacja danych."
      ]
    },
    {
      "cell_type": "code",
      "metadata": {
        "colab": {
          "base_uri": "https://localhost:8080/",
          "height": 224
        },
        "id": "2pW6ZvAEvaMR",
        "outputId": "bfcc577b-b0b3-4aaf-dac0-752c767fd854"
      },
      "source": [
        "from sklearn.preprocessing import StandardScaler\n",
        "\n",
        "scaler = StandardScaler()\n",
        "scaled_data = pd.DataFrame(scaler.fit_transform(X))\n",
        "scaled_data.columns = X.columns\n",
        "X = scaled_data\n",
        "X.head()"
      ],
      "execution_count": null,
      "outputs": [
        {
          "output_type": "execute_result",
          "data": {
            "text/html": [
              "<div>\n",
              "<style scoped>\n",
              "    .dataframe tbody tr th:only-of-type {\n",
              "        vertical-align: middle;\n",
              "    }\n",
              "\n",
              "    .dataframe tbody tr th {\n",
              "        vertical-align: top;\n",
              "    }\n",
              "\n",
              "    .dataframe thead th {\n",
              "        text-align: right;\n",
              "    }\n",
              "</style>\n",
              "<table border=\"1\" class=\"dataframe\">\n",
              "  <thead>\n",
              "    <tr style=\"text-align: right;\">\n",
              "      <th></th>\n",
              "      <th>profit</th>\n",
              "      <th>age</th>\n",
              "      <th>cancelled</th>\n",
              "      <th>months_start</th>\n",
              "      <th>way_of_payment</th>\n",
              "      <th>promotion</th>\n",
              "      <th>region</th>\n",
              "      <th>profit_segment</th>\n",
              "      <th>sex</th>\n",
              "      <th>tariff_model</th>\n",
              "      <th>academic_title</th>\n",
              "      <th>revenue_calls_3_months_ago</th>\n",
              "      <th>fixed_revenue_3_months_ago</th>\n",
              "      <th>revenue_roaming_3_months_ago</th>\n",
              "      <th>airtime_to_data_service_1_month_ago</th>\n",
              "      <th>airtime_incoming_1_month_ago</th>\n",
              "      <th>airtime_to_mobile_1_month_ago</th>\n",
              "      <th>calls_to_data_service_3_months_ago</th>\n",
              "      <th>calls_incoming_3_months_ago</th>\n",
              "      <th>calls_roaming_3_months_ago</th>\n",
              "    </tr>\n",
              "  </thead>\n",
              "  <tbody>\n",
              "    <tr>\n",
              "      <th>0</th>\n",
              "      <td>-0.360565</td>\n",
              "      <td>-1.095477</td>\n",
              "      <td>-0.143719</td>\n",
              "      <td>-0.294921</td>\n",
              "      <td>-0.218895</td>\n",
              "      <td>0.0</td>\n",
              "      <td>-1.725240</td>\n",
              "      <td>-0.732571</td>\n",
              "      <td>-1.777203</td>\n",
              "      <td>-0.930218</td>\n",
              "      <td>-0.158662</td>\n",
              "      <td>-0.414944</td>\n",
              "      <td>-2.420031</td>\n",
              "      <td>-0.187799</td>\n",
              "      <td>-0.029038</td>\n",
              "      <td>-0.345616</td>\n",
              "      <td>-0.213163</td>\n",
              "      <td>0.0</td>\n",
              "      <td>0.770951</td>\n",
              "      <td>-0.207974</td>\n",
              "    </tr>\n",
              "    <tr>\n",
              "      <th>1</th>\n",
              "      <td>2.243767</td>\n",
              "      <td>0.118465</td>\n",
              "      <td>-0.143719</td>\n",
              "      <td>0.965519</td>\n",
              "      <td>-0.218895</td>\n",
              "      <td>0.0</td>\n",
              "      <td>-1.353771</td>\n",
              "      <td>-0.086442</td>\n",
              "      <td>0.562682</td>\n",
              "      <td>-0.395105</td>\n",
              "      <td>-0.158662</td>\n",
              "      <td>3.636947</td>\n",
              "      <td>-2.420031</td>\n",
              "      <td>-0.187799</td>\n",
              "      <td>-0.029038</td>\n",
              "      <td>9.926147</td>\n",
              "      <td>13.312012</td>\n",
              "      <td>0.0</td>\n",
              "      <td>3.194215</td>\n",
              "      <td>0.812737</td>\n",
              "    </tr>\n",
              "    <tr>\n",
              "      <th>2</th>\n",
              "      <td>-0.207898</td>\n",
              "      <td>-1.247219</td>\n",
              "      <td>-0.143719</td>\n",
              "      <td>-0.715068</td>\n",
              "      <td>-0.218895</td>\n",
              "      <td>0.0</td>\n",
              "      <td>-0.982301</td>\n",
              "      <td>-0.732571</td>\n",
              "      <td>-1.777203</td>\n",
              "      <td>-0.930218</td>\n",
              "      <td>-0.158662</td>\n",
              "      <td>0.171592</td>\n",
              "      <td>-0.047955</td>\n",
              "      <td>-0.187799</td>\n",
              "      <td>-0.029038</td>\n",
              "      <td>-0.425872</td>\n",
              "      <td>-0.148570</td>\n",
              "      <td>0.0</td>\n",
              "      <td>0.360559</td>\n",
              "      <td>-0.207974</td>\n",
              "    </tr>\n",
              "    <tr>\n",
              "      <th>3</th>\n",
              "      <td>0.912245</td>\n",
              "      <td>2.849833</td>\n",
              "      <td>6.958033</td>\n",
              "      <td>1.280629</td>\n",
              "      <td>-0.218895</td>\n",
              "      <td>0.0</td>\n",
              "      <td>-0.610832</td>\n",
              "      <td>0.559686</td>\n",
              "      <td>0.562682</td>\n",
              "      <td>1.388607</td>\n",
              "      <td>-0.158662</td>\n",
              "      <td>3.476157</td>\n",
              "      <td>2.860620</td>\n",
              "      <td>-0.187799</td>\n",
              "      <td>-0.029038</td>\n",
              "      <td>1.830864</td>\n",
              "      <td>1.130779</td>\n",
              "      <td>0.0</td>\n",
              "      <td>1.923956</td>\n",
              "      <td>-0.207974</td>\n",
              "    </tr>\n",
              "    <tr>\n",
              "      <th>4</th>\n",
              "      <td>-0.450170</td>\n",
              "      <td>2.849833</td>\n",
              "      <td>-0.143719</td>\n",
              "      <td>-0.715068</td>\n",
              "      <td>-0.218895</td>\n",
              "      <td>0.0</td>\n",
              "      <td>-1.353771</td>\n",
              "      <td>-0.732571</td>\n",
              "      <td>0.562682</td>\n",
              "      <td>-0.395105</td>\n",
              "      <td>-0.158662</td>\n",
              "      <td>-0.374627</td>\n",
              "      <td>-2.420031</td>\n",
              "      <td>-0.187799</td>\n",
              "      <td>-0.029038</td>\n",
              "      <td>-0.073729</td>\n",
              "      <td>-0.324996</td>\n",
              "      <td>0.0</td>\n",
              "      <td>-0.284342</td>\n",
              "      <td>-0.207974</td>\n",
              "    </tr>\n",
              "  </tbody>\n",
              "</table>\n",
              "</div>"
            ],
            "text/plain": [
              "     profit       age  ...  calls_incoming_3_months_ago  calls_roaming_3_months_ago\n",
              "0 -0.360565 -1.095477  ...                     0.770951                   -0.207974\n",
              "1  2.243767  0.118465  ...                     3.194215                    0.812737\n",
              "2 -0.207898 -1.247219  ...                     0.360559                   -0.207974\n",
              "3  0.912245  2.849833  ...                     1.923956                   -0.207974\n",
              "4 -0.450170  2.849833  ...                    -0.284342                   -0.207974\n",
              "\n",
              "[5 rows x 20 columns]"
            ]
          },
          "metadata": {
            "tags": []
          },
          "execution_count": 18
        }
      ]
    },
    {
      "cell_type": "markdown",
      "metadata": {
        "id": "bSmEbHEcxZO-"
      },
      "source": [
        "Rozdzielenie zbioru danych na testowy i treningowy"
      ]
    },
    {
      "cell_type": "code",
      "metadata": {
        "id": "wod8WOO1u3gv"
      },
      "source": [
        "from sklearn.model_selection import train_test_split\n",
        "\n",
        "X_train, X_test, y_train, y_test = train_test_split(X, y, test_size=0.2, random_state=seed_value) "
      ],
      "execution_count": null,
      "outputs": []
    },
    {
      "cell_type": "markdown",
      "metadata": {
        "id": "4GGlixpyc1T1"
      },
      "source": [
        "# 2. **Budowa modeli klasyfikacyjnych**\n"
      ]
    },
    {
      "cell_type": "markdown",
      "metadata": {
        "id": "EWiGRLuq041U"
      },
      "source": [
        "LDA."
      ]
    },
    {
      "cell_type": "code",
      "metadata": {
        "id": "vTNTxK_GxpYg"
      },
      "source": [
        "from sklearn.discriminant_analysis import LinearDiscriminantAnalysis as LDA\n",
        "\n",
        "def model_LDA(X_train, y_train):\n",
        "  m_LDA = LDA()\n",
        "  m_LDA.fit(X_train, y_train)\n",
        "  return m_LDA"
      ],
      "execution_count": null,
      "outputs": []
    },
    {
      "cell_type": "markdown",
      "metadata": {
        "id": "9fXH-iVo025K"
      },
      "source": [
        "Xgboost."
      ]
    },
    {
      "cell_type": "code",
      "metadata": {
        "id": "ii1dj60RyA3g"
      },
      "source": [
        "from xgboost import XGBClassifier\n",
        "\n",
        "def model_xgboost(X_train, y_train):\n",
        "  model_boost = XGBClassifier(random_state=seed_value)\n",
        "  parameters = {\n",
        "    'max_depth' : range(1, 10),\n",
        "    'criterion' : [\"entropy\", \"gini\"]\n",
        "  }\n",
        "\n",
        "  output_model = GridSearchCV(model_boost, parameters, scoring=\"roc_auc\")\n",
        "  output_model.fit(X_train, y_train)\n",
        "\n",
        "  return output_model"
      ],
      "execution_count": null,
      "outputs": []
    },
    {
      "cell_type": "markdown",
      "metadata": {
        "id": "GYK8ceny05-H"
      },
      "source": [
        "Decision  tree."
      ]
    },
    {
      "cell_type": "code",
      "metadata": {
        "id": "3_2yiEMGx2aw"
      },
      "source": [
        "from sklearn.model_selection import GridSearchCV\n",
        "from sklearn.tree import DecisionTreeClassifier\n",
        "\n",
        "def model_decision_tree(X_train, y_train):\n",
        "  parameters = {\n",
        "      'max_depth' : range(1, 10), \n",
        "      'min_samples_split' : [0.1, 0.2],\n",
        "      'criterion' : [\"entropy\", \"gini\"]\n",
        "  }\n",
        "                \n",
        "  decision_tree_model = DecisionTreeClassifier(random_state=seed_value)\n",
        "  output_model = GridSearchCV(decision_tree_model, parameters, scoring=\"roc_auc\")\n",
        "  output_model.fit(X_train, y_train)\n",
        "\n",
        "  return output_model"
      ],
      "execution_count": null,
      "outputs": []
    },
    {
      "cell_type": "markdown",
      "metadata": {
        "id": "Epq6Y-SP07tG"
      },
      "source": [
        "Random forest."
      ]
    },
    {
      "cell_type": "code",
      "metadata": {
        "id": "eGNrXFPhx6CZ"
      },
      "source": [
        "from sklearn.model_selection import GridSearchCV\n",
        "from sklearn.ensemble import RandomForestClassifier\n",
        "def model_random_forest(X_train, y_train):\n",
        "\n",
        "  parameters = {\n",
        "      'max_depth' : range(1, 10), \n",
        "      'min_samples_split' : [0.1, 0.2],\n",
        "      'criterion' : [\"entropy\", \"gini\"]\n",
        "  }\n",
        "\n",
        "  model_random_forest = RandomForestClassifier(random_state=seed_value)\n",
        "  output_model = GridSearchCV(model_random_forest, parameters, scoring=\"roc_auc\")\n",
        "  output_model.fit(X_train, y_train)\n",
        "  return output_model"
      ],
      "execution_count": null,
      "outputs": []
    },
    {
      "cell_type": "markdown",
      "metadata": {
        "id": "IhcZkRK_xdm7"
      },
      "source": [
        "Ulepszona wersja xgboost."
      ]
    },
    {
      "cell_type": "code",
      "metadata": {
        "id": "ATI5yWxhxcoy"
      },
      "source": [
        "from xgboost import XGBClassifier\n",
        "\n",
        "def advance_model_xgboost(X_train, y_train):\n",
        "  model_boost = XGBClassifier(random_state=seed_value)\n",
        "  parameters = {\n",
        "        'min_child_weight': [1, 5, 10],\n",
        "        'gamma': [0.5, 1, 1.5, 2, 5],\n",
        "        'subsample': [0.6, 0.8, 1.0],\n",
        "        'colsample_bytree': [0.6, 0.8, 1.0],\n",
        "        'max_depth' : range(1, 10),\n",
        "        'criterion' : [\"entropy\", \"gini\"]\n",
        "  }\n",
        "\n",
        "  output_model = GridSearchCV(model_boost, parameters, scoring=\"roc_auc\")\n",
        "  output_model.fit(X_train, y_train)\n",
        "\n",
        "  return output_model"
      ],
      "execution_count": null,
      "outputs": []
    },
    {
      "cell_type": "markdown",
      "metadata": {
        "id": "JoOpg4IVc47V"
      },
      "source": [
        "# 3. **Porównanie wybranych modeli**"
      ]
    },
    {
      "cell_type": "markdown",
      "metadata": {
        "id": "yiIupnkHzXTz"
      },
      "source": [
        "Utworzenie modelu testowego w celu oszacowania wpływu zmiennych."
      ]
    },
    {
      "cell_type": "code",
      "metadata": {
        "colab": {
          "base_uri": "https://localhost:8080/",
          "height": 349
        },
        "id": "lteoDG1hzrBW",
        "outputId": "382d044e-2344-463e-c02e-8f4da194505a"
      },
      "source": [
        "from sklearn.ensemble import ExtraTreesClassifier\n",
        "\n",
        "model = ExtraTreesClassifier()\n",
        "model.fit(X,y)\n",
        "feat_importances = pd.Series(model.feature_importances_, index=X.columns)\n",
        "feat_importances.nlargest(18).plot(kind='barh')\n",
        "plt.title('Feature importance')\n",
        "plt.show()"
      ],
      "execution_count": null,
      "outputs": [
        {
          "output_type": "stream",
          "text": [
            "[0.1629137  0.0473484  0.00169409 0.04897297 0.00890296 0.\n",
            " 0.04342255 0.08062035 0.01639413 0.03028832 0.00495979 0.10410852\n",
            " 0.03709736 0.03601651 0.00032024 0.10235775 0.12877762 0.\n",
            " 0.08873931 0.05706544]\n"
          ],
          "name": "stdout"
        },
        {
          "output_type": "display_data",
          "data": {
            "image/png": "[encoded data removed]",
            "text/plain": [
              "<Figure size 432x288 with 1 Axes>"
            ]
          },
          "metadata": {
            "tags": [],
            "needs_background": "light"
          }
        }
      ]
    },
    {
      "cell_type": "markdown",
      "metadata": {
        "id": "AWBt9ZrH0U05"
      },
      "source": [
        "Z modelu badawczego wynika, że największy wpływ ma **profit**."
      ]
    },
    {
      "cell_type": "code",
      "metadata": {
        "id": "aYsnbZUk071N"
      },
      "source": [
        "def run_models(X_train, y_train):\n",
        "  models = list()\n",
        "  models.append(model_LDA(X_train, y_train))\n",
        "  models.append(model_xgboost(X_train, y_train))\n",
        "  models.append(model_decision_tree(X_train, y_train))\n",
        "  models.append(model_random_forest(X_train, y_train))\n",
        "  return models\n",
        "\n",
        "models = run_models(X_train, y_train)"
      ],
      "execution_count": null,
      "outputs": []
    },
    {
      "cell_type": "markdown",
      "metadata": {
        "id": "OiE8SiRn0zKF"
      },
      "source": [
        "W celu oszacowania, jak dobrze modele radzą sobie z zadaniem, używamy krzywej auc."
      ]
    },
    {
      "cell_type": "code",
      "metadata": {
        "id": "-G9z1DCb55fY"
      },
      "source": [
        "from sklearn.metrics import confusion_matrix, roc_curve, roc_auc_score\n",
        "\n",
        "def auc_score(model, X_test, y_test):\n",
        "  probs = model.predict_proba(X_test)[:,1] > 0.5\n",
        "  auc = roc_auc_score(y_test, probs)\n",
        "  fpr, tpr, _ = roc_curve(y_test, probs)\n",
        "  return fpr, tpr, auc"
      ],
      "execution_count": null,
      "outputs": []
    },
    {
      "cell_type": "code",
      "metadata": {
        "id": "N--552c15HsW"
      },
      "source": [
        "auc_score_lda = auc_score(models[0], X_test, y_test)\n",
        "auc_score_xgboost = auc_score(models[1], X_test, y_test)\n",
        "auc_score_decision_tree = auc_score(models[2], X_test, y_test)\n",
        "auc_score_random_forest = auc_score(models[3], X_test, y_test)"
      ],
      "execution_count": null,
      "outputs": []
    },
    {
      "cell_type": "markdown",
      "metadata": {
        "id": "WlxwPeqS0J2I"
      },
      "source": [
        "Budowa krzywej auc dla modeli."
      ]
    },
    {
      "cell_type": "code",
      "metadata": {
        "colab": {
          "base_uri": "https://localhost:8080/",
          "height": 312
        },
        "id": "SCohCUHN4Gk9",
        "outputId": "184e44ae-8a94-48c1-ea63-645bad6b7653"
      },
      "source": [
        "plt.plot(auc_score_lda[0], auc_score_lda[1], color='orange',\n",
        "         label=f'AUC lda: {str(round(auc_score_lda[2], 2))}')\n",
        "\n",
        "plt.plot(auc_score_xgboost[0], auc_score_xgboost[1], color='red',\n",
        "         label=f'AUC xgboost: {str(round(auc_score_xgboost[2], 2))}')\n",
        "\n",
        "plt.plot(auc_score_decision_tree[0], auc_score_decision_tree[1], color='green',\n",
        "         label=f'AUC decison tree: {str(round(auc_score_decision_tree[2], 2))}')\n",
        "\n",
        "plt.plot(auc_score_random_forest[0], auc_score_random_forest[1], color='blue',\n",
        "         label=f'AUC random forest: {str(round(auc_score_random_forest[2], 2))}')\n",
        "plt.plot([0, 1], [0, 1], color='darkblue', linestyle='--')\n",
        "plt.xlabel('False Positive Rate')\n",
        "plt.ylabel('True Positive Rate')\n",
        "plt.title('ROC AUC CURVE')\n",
        "plt.legend()"
      ],
      "execution_count": null,
      "outputs": [
        {
          "output_type": "execute_result",
          "data": {
            "text/plain": [
              "<matplotlib.legend.Legend at 0x7f34e2b61a10>"
            ]
          },
          "metadata": {
            "tags": []
          },
          "execution_count": 140
        },
        {
          "output_type": "display_data",
          "data": {
            "image/png": "[encoded data removed]",
            "text/plain": [
              "<Figure size 432x288 with 1 Axes>"
            ]
          },
          "metadata": {
            "tags": [],
            "needs_background": "light"
          }
        }
      ]
    },
    {
      "cell_type": "markdown",
      "metadata": {
        "id": "Aux9rFJFxEXf"
      },
      "source": [
        "Po analizie krzywej auc, można stwierdzić, że xboost jest najlepszym modelem, więc model zostaje przetrenowany z większą ilością parametrów GridSearch."
      ]
    },
    {
      "cell_type": "markdown",
      "metadata": {
        "id": "BaAuOwwvb6c2"
      },
      "source": [
        "Uwaga! Szkolenie trwało 3 godziny."
      ]
    },
    {
      "cell_type": "code",
      "metadata": {
        "id": "o4IJANSdyQP0"
      },
      "source": [
        "advance_model_xgboost = advance_model_xgboost(X_train, y_train)"
      ],
      "execution_count": null,
      "outputs": []
    },
    {
      "cell_type": "code",
      "metadata": {
        "id": "qJrEyn7x1MvN"
      },
      "source": [
        "auc_score_advance_xgboost = auc_score(advance_model_xgboost, X_test, y_test)"
      ],
      "execution_count": null,
      "outputs": []
    },
    {
      "cell_type": "markdown",
      "metadata": {
        "id": "bYZZzLXC1rnK"
      },
      "source": [
        "Porównanie wyników krzywej auc dla dwóch xboostów."
      ]
    },
    {
      "cell_type": "code",
      "metadata": {
        "colab": {
          "base_uri": "https://localhost:8080/",
          "height": 312
        },
        "id": "SISFIJbW1KcR",
        "outputId": "74ad3b1a-a094-4ddd-e61d-9a8a74a6c18d"
      },
      "source": [
        "plt.plot(auc_score_advance_xgboost[0], auc_score_advance_xgboost[1], color='green',\n",
        "         label=f'AUC advance xgboost: {str(round(auc_score_advance_xgboost[2], 2))}')\n",
        "\n",
        "plt.plot(auc_score_xgboost[0], auc_score_xgboost[1], color='red',\n",
        "         label=f'AUC xgboost: {str(round(auc_score_xgboost[2], 2))}')\n",
        "plt.plot([0, 1], [0, 1], color='darkblue', linestyle='--')\n",
        "plt.xlabel('False Positive Rate')\n",
        "plt.ylabel('True Positive Rate')\n",
        "plt.title('ROC AUC CURVE')\n",
        "plt.legend()"
      ],
      "execution_count": null,
      "outputs": [
        {
          "output_type": "execute_result",
          "data": {
            "text/plain": [
              "<matplotlib.legend.Legend at 0x7f34e1f13190>"
            ]
          },
          "metadata": {
            "tags": []
          },
          "execution_count": 146
        },
        {
          "output_type": "display_data",
          "data": {
            "image/png": "[encoded data removed]",
            "text/plain": [
              "<Figure size 432x288 with 1 Axes>"
            ]
          },
          "metadata": {
            "tags": [],
            "needs_background": "light"
          }
        }
      ]
    },
    {
      "cell_type": "code",
      "metadata": {
        "colab": {
          "base_uri": "https://localhost:8080/",
          "height": 306
        },
        "id": "jv-zEJ-qw0Tu",
        "outputId": "f871193c-ffb0-42bc-b4db-5e4f4d0c2287"
      },
      "source": [
        "y_pred_model = advance_model_xgboost.predict(X_test)\n",
        "cf_matrix = confusion_matrix(y_test, y_pred_model)\n",
        "\n",
        "fig, ax = plot_confusion_matrix(conf_mat=cf_matrix, cmap=\"flag\")\n",
        "plt.title(\"Matrix Confusion\")\n",
        "plt.show()"
      ],
      "execution_count": null,
      "outputs": [
        {
          "output_type": "display_data",
          "data": {
            "image/png": "[encoded data removed]",
            "text/plain": [
              "<Figure size 432x288 with 1 Axes>"
            ]
          },
          "metadata": {
            "tags": [],
            "needs_background": "light"
          }
        }
      ]
    },
    {
      "cell_type": "markdown",
      "metadata": {
        "id": "oC_snhObc7tb"
      },
      "source": [
        "#4. **Dyskusja**"
      ]
    },
    {
      "cell_type": "markdown",
      "metadata": {
        "id": "JqM7JmcfcyZK"
      },
      "source": [
        "Do wykonania zadania wykorzystane zostały 4 różne algorytmy nauczania maszynowego(LDA, xboost, decision tree, random forest). Po treningu z użyciem auc score stwierdzono, że model wytrenowany na xboost był wystarczająco dobry(0.89 auc score), aby użyć go na tych danych. Pozostałe modele dawały zadowalające wyniki gorsze o około 0.15 w porównaniu z xboost.  Tak wysoki wynik auc może wskazywać, że sieć została przeszkolona dla zestawu danych treningowych."
      ]
    },
    {
      "cell_type": "markdown",
      "metadata": {
        "id": "LkaxPdUPeMJY"
      },
      "source": [
        "Dlatego stworzony został model oparty na algorytmie xboost. Lista hiper parametrów została rozszerzona, co wpłynęło na czas treningu, który wzrósł z około 5 minut do około 3 godzin. W rezultacie wynik auc wzrósł o 0.02 i wyniósł 0.91. Wynik jest wysoki i również może oznaczać przetrenowanie.\n",
        "\n",
        "Dla pewności można utworzyć macierz błędów. Na podstawie wyników można śmiało stwierdzić, że model dobrze radzi sobie z zadaniem i popełnia minimalną liczbę błędów."
      ]
    }
  ]
}